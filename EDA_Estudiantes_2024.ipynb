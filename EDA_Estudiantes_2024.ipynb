{
 "cells": [
  {
   "cell_type": "markdown",
   "id": "79e2bfcf",
   "metadata": {},
   "source": [
    "# 🏛️ Exploración de Datos: Rendimiento Estudiantil (Google Sheets 2024)"
   ]
  },
  {
   "cell_type": "code",
   "execution_count": null,
   "id": "e34eaab1",
   "metadata": {},
   "outputs": [],
   "source": [
    "# Instalación de librerías necesarias\n",
    "!pip install --upgrade gspread gspread-dataframe ydata-profiling\n",
    "\n",
    "# Importación de librerías\n",
    "import pandas as pd\n",
    "import numpy as np\n",
    "import matplotlib.pyplot as plt\n",
    "import seaborn as sns\n",
    "import gspread\n",
    "from gspread_dataframe import get_as_dataframe\n",
    "from google.colab import auth\n",
    "from google.auth import default\n",
    "from ydata_profiling import ProfileReport\n"
   ]
  },
  {
   "cell_type": "code",
   "execution_count": null,
   "id": "0e127053",
   "metadata": {},
   "outputs": [],
   "source": [
    "# Autenticación\n",
    "auth.authenticate_user()\n",
    "creds, _ = default()\n",
    "gc = gspread.authorize(creds)\n",
    "\n",
    "# Abrir archivo de Google Sheets\n",
    "spreadsheet = gc.open_by_url('https://docs.google.com/spreadsheets/d/16goZeoHV7c8HoGmZDNBSjhozXrmOok9sr_J4-XhHDhQ/edit?usp=sharing')\n",
    "worksheet = spreadsheet.sheet1\n",
    "\n",
    "# Cargar como DataFrame\n",
    "df = get_as_dataframe(worksheet)\n",
    "\n",
    "# Mostrar primeras filas\n",
    "df.head()\n"
   ]
  },
  {
   "cell_type": "code",
   "execution_count": null,
   "id": "5a657342",
   "metadata": {},
   "outputs": [],
   "source": [
    "# Dimensiones\n",
    "print(f\"El dataset tiene {df.shape[0]} filas y {df.shape[1]} columnas.\")\n",
    "\n",
    "# Información general\n",
    "df.info()\n",
    "\n",
    "# Estadísticas generales\n",
    "df.describe(include='all')\n",
    "\n",
    "# Distribución de datos categóricos\n",
    "for col in df.select_dtypes(include='object').columns:\n",
    "    print(f\"\\nDistribución de {col}:\")\n",
    "    print(df[col].value_counts())\n"
   ]
  },
  {
   "cell_type": "code",
   "execution_count": null,
   "id": "7807d41b",
   "metadata": {},
   "outputs": [],
   "source": [
    "# Reemplazo de valores nulos\n",
    "print(\"Valores nulos por columna antes de limpieza:\")\n",
    "print(df.isnull().sum())\n",
    "\n",
    "# Eliminamos filas con nulos (por simplicidad)\n",
    "df_clean = df.dropna()\n",
    "\n",
    "print(\"Valores nulos por columna después de limpieza:\")\n",
    "print(df_clean.isnull().sum())\n",
    "\n",
    "# Reemplazo de duplicados\n",
    "print(f\"Número de filas duplicadas: {df_clean.duplicated().sum()}\")\n",
    "df_clean = df_clean.drop_duplicates()\n",
    "print(f\"Después de eliminar duplicados: {df_clean.duplicated().sum()}\")\n",
    "\n",
    "# Codificar sexo (opcional)\n",
    "df_clean['sexo_encoded'] = df_clean['sexo'].map({'M': 0, 'F': 1})\n"
   ]
  },
  {
   "cell_type": "code",
   "execution_count": null,
   "id": "f8130bbc",
   "metadata": {},
   "outputs": [],
   "source": [
    "# Histograma de Comprensión de Texto y Matemáticas\n",
    "df_clean[['M500_EM_6P_2024_CT', 'M500_EM_6P_2024_MA']].hist(figsize=(10,8), bins=15)\n",
    "plt.tight_layout()\n",
    "plt.show()\n",
    "\n",
    "# Barras para variables categóricas\n",
    "for col in ['sexo', 'area', 'gestion2']:\n",
    "    plt.figure(figsize=(8,4))\n",
    "    sns.countplot(x=col, data=df_clean)\n",
    "    plt.title(f'Distribución de {col}')\n",
    "    plt.xticks(rotation=45)\n",
    "    plt.show()\n"
   ]
  },
  {
   "cell_type": "code",
   "execution_count": null,
   "id": "b47f5d9f",
   "metadata": {},
   "outputs": [],
   "source": [
    "# Diagrama de dispersión entre puntajes de Comprensión de Texto y Matemáticas\n",
    "sns.pairplot(df_clean[['M500_EM_6P_2024_CT', 'M500_EM_6P_2024_MA']])\n",
    "plt.show()\n",
    "\n",
    "# Scatterplot dirigido con diferenciación por sexo\n",
    "plt.figure(figsize=(8,6))\n",
    "sns.scatterplot(x='M500_EM_6P_2024_CT', y='M500_EM_6P_2024_MA', hue='sexo', data=df_clean)\n",
    "plt.title('Relación entre Comprensión de Texto y Matemáticas')\n",
    "plt.xlabel('Puntaje Comprensión de Texto')\n",
    "plt.ylabel('Puntaje Matemáticas')\n",
    "plt.show()\n",
    "\n",
    "# Boxplot de puntaje de Comprensión de Texto por sexo\n",
    "plt.figure(figsize=(8,6))\n",
    "sns.boxplot(x='sexo', y='M500_EM_6P_2024_CT', data=df_clean)\n",
    "plt.title('Comprensión de Texto según Sexo')\n",
    "plt.show()\n"
   ]
  },
  {
   "cell_type": "code",
   "execution_count": null,
   "id": "2715606b",
   "metadata": {},
   "outputs": [],
   "source": [
    "# Crear reporte automático\n",
    "profile = ProfileReport(df_clean, title=\"Reporte EDA de Estudiantes 2024\", explorative=True)\n",
    "\n",
    "# Mostrar reporte\n",
    "profile.to_notebook_iframe()\n"
   ]
  }
 ],
 "metadata": {},
 "nbformat": 4,
 "nbformat_minor": 5
}
